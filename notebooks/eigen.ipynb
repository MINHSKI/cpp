{
 "cells": [
  {
   "cell_type": "markdown",
   "metadata": {},
   "source": [
    "## Eigen"
   ]
  },
  {
   "cell_type": "code",
   "execution_count": 1,
   "metadata": {},
   "outputs": [],
   "source": [
    "#include <iostream>\n",
    "#include <eigen3/Eigen/Dense>"
   ]
  },
  {
   "cell_type": "code",
   "execution_count": 2,
   "metadata": {},
   "outputs": [],
   "source": [
    "Eigen::MatrixXd A(2,2);\n",
    "Eigen::VectorXd x(2);\n",
    "Eigen::VectorXd b(2);"
   ]
  },
  {
   "cell_type": "code",
   "execution_count": 3,
   "metadata": {},
   "outputs": [
    {
     "name": "stdout",
     "output_type": "stream",
     "text": [
      "4\n",
      "1 2\n",
      "3 4\n"
     ]
    }
   ],
   "source": [
    "A(0,0) = 1;\n",
    "A(0,1) = 2;\n",
    "A(1,0) = 3;\n",
    "A(1,1) = 4;\n",
    "std::cout << A.size() << std::endl;\n",
    "std::cout << A << std::endl;"
   ]
  },
  {
   "cell_type": "code",
   "execution_count": 4,
   "metadata": {},
   "outputs": [],
   "source": [
    "x << 1, 1;\n",
    "b = A*x;"
   ]
  },
  {
   "cell_type": "code",
   "execution_count": 5,
   "metadata": {},
   "outputs": [
    {
     "name": "stdout",
     "output_type": "stream",
     "text": [
      "Ax = \n",
      "3\n",
      "7\n",
      "norm(b,2) = \n",
      "7.61577\n",
      "trace(A) = \n",
      "5\n"
     ]
    }
   ],
   "source": [
    "std::cout << \"Ax = \" << std::endl << b << std::endl;\n",
    "std::cout << \"norm(b,2) = \" << std::endl << b.lpNorm<2>() << std::endl;\n",
    "std::cout << \"trace(A) = \" << std::endl << A.trace() << std::endl;"
   ]
  },
  {
   "cell_type": "code",
   "execution_count": null,
   "metadata": {},
   "outputs": [],
   "source": []
  }
 ],
 "metadata": {
  "kernelspec": {
   "display_name": "xeus C++14",
   "language": "",
   "name": "xeus-cling-cpp14"
  },
  "language_info": {
   "codemirror_mode": "text/x-c++src",
   "file_extension": ".cpp",
   "mimetype": "text/x-c++src",
   "name": "c++",
   "version": ""
  }
 },
 "nbformat": 4,
 "nbformat_minor": 2
}
