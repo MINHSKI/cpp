{
 "cells": [
  {
   "cell_type": "markdown",
   "metadata": {},
   "source": [
    "## xtensor"
   ]
  },
  {
   "cell_type": "code",
   "execution_count": 5,
   "metadata": {},
   "outputs": [],
   "source": [
    "#include <iostream>\n",
    "#include \"xtensor/xarray.hpp\"\n",
    "#include \"xtensor/xio.hpp\"\n",
    "#include \"xtensor/xrandom.hpp\"\n",
    "#include \"xtensor/xbuilder.hpp\""
   ]
  },
  {
   "cell_type": "code",
   "execution_count": 2,
   "metadata": {},
   "outputs": [
    {
     "name": "stdout",
     "output_type": "stream",
     "text": [
      "{{ 0.13453 , -0.146382,  0.46065 },\n",
      " {-1.871384,  0.163712, -0.214253},\n",
      " { 0.298595, -0.827944,  0.010215},\n",
      " { 1.055466, -0.546841,  1.174568}}"
     ]
    }
   ],
   "source": [
    "xt::xarray<double> arr1 = xt::random::randn<double>({4,3});\n",
    "std::cout << arr1;"
   ]
  },
  {
   "cell_type": "code",
   "execution_count": 3,
   "metadata": {},
   "outputs": [
    {
     "name": "stdout",
     "output_type": "stream",
     "text": [
      "{{  0.      ,   1.111111,   2.222222,   3.333333,   4.444444},\n",
      " {  5.555556,   6.666667,   7.777778,   8.888889,  10.      }}"
     ]
    }
   ],
   "source": [
    "xt::xarray<double> arr2 = xt::linspace<double>(0.0, 10.0, 10);\n",
    "arr2.reshape({2,5});\n",
    "std::cout << arr2;"
   ]
  },
  {
   "cell_type": "code",
   "execution_count": null,
   "metadata": {},
   "outputs": [],
   "source": []
  }
 ],
 "metadata": {
  "kernelspec": {
   "display_name": "xeus C++14",
   "language": "",
   "name": "xeus-cling-cpp14"
  },
  "language_info": {
   "codemirror_mode": "text/x-c++src",
   "file_extension": ".cpp",
   "mimetype": "text/x-c++src",
   "name": "c++",
   "version": ""
  }
 },
 "nbformat": 4,
 "nbformat_minor": 2
}
